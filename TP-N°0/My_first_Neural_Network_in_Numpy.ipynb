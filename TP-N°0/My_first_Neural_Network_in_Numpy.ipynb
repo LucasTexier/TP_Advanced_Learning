{
  "cells": [
    {
      "cell_type": "markdown",
      "metadata": {
        "id": "OUqc1_wsWsWi"
      },
      "source": [
        "# My First Artificial Neural Network\n",
        "\n",
        "**Objective** The goal of this practical session is to implement a simple but fully functional artificial neural network (ANN). It will probably be a first for you so be excited! This session will also be the opportunity to recall some important notions related to Machine Learning. \n",
        "\n",
        "**Prerequisites**: introductory level in machine learning, basics of calculus and linear algebra, a first quick introduction to ANNs, basic Python skills, and well, as usual, motivation!\n",
        "\n",
        "**Estimated time**: 3 hours (generous)\n",
        "\n",
        "****"
      ]
    },
    {
      "cell_type": "markdown",
      "metadata": {
        "id": "K4rVbB4mTpNa"
      },
      "source": [
        "\n",
        "\n",
        "## Introduction to the session\n",
        "\n",
        "You'll be asked to implement several *tricky* details by hand. \n",
        "It will (i) force you to deeply understand the basics of neural neworks, and (ii) help you to fully understand what's happening under the hood when you'll be using high-level frameworks such as TensorFlow or PyTorch. \n",
        "\n",
        "*Important*: please, don't give up if you find it hard at first, we can ensure you that you've the skills and adapted background to achieve this (easily). Take your time, find your pace, try to fully understand what we are doing at each step.\n",
        "\n",
        "As we will see later introducing PyTorch (a framework commonly used to implement ANN you're not supposed to know yet), the development process of our ANNs will be highly simplified. But for now, we will only use the Numpy library to implement the neural network.\n",
        "\n",
        "*NumPy is a library for the Python programming language, adding support for large, multi-dimensional arrays and matrices, along with a large collection of high-level mathematical functions to operate on these arrays.* https://numpy.org/. It is not a prerequesite to master Numpy to understand the content of this session. The duration of this session has been defined to allow you to spend extra time learning about tools or concepts that we will use, so do not hesite to find extra resources to learn about Numpy for instance. \n",
        "\n",
        "This tutorial is based on https://pytorch.org/tutorials/beginner/pytorch_with_examples.html. Several modifications have been made, and extra content added to match, as much as possible, with the content given in this course and your background. \n",
        "\n",
        "Recall the terminology:\n",
        "* supervised machine learning: the setting we will consider in which we do have a set of pairs of the form (input, label), e.g. in a binary classification task related to cancerous tumor detection in image we would have a set of pairs (image, boolean value).\n",
        "* training set: labeled inputs we will use to train our network. \n",
        "* batch: group of input values processed in a iteration. \n",
        "\n",
        "Our aim is to obtain a predictive model, here a neural network, able to perform good predictions while used in production. It is important to stress that we don't only want our model to be good on the training set (that would be memorizing); we want our model to provide good predictions on unseen input values too. Our model should therefore generalize well.  \n",
        "\n",
        "The flow of this session will be the following: \n",
        "1. We will define a neural network architecture in accordance with the input data we will have to deal with. Several design choices will be defined arbitrarily at this step.\n",
        "\n",
        "2. We will define the training procedure that will be used to train the parameters of the networks using training data. You should already be familiar with the training objective classically considered in a supervised setting (i.e. minimizing a loss function; if it's not the case do not hesitate to go back to our introductory course about linear models).\n"
      ]
    },
    {
      "cell_type": "markdown",
      "metadata": {
        "id": "axdQtlZBZSd9"
      },
      "source": [
        "## Context : Supervised setting, Regression\n",
        "\n",
        "First we will define the context we will consider.\n",
        "\n",
        "We will place ourself in a regression setting in which we want a predictor $\\hat{f} :\\mathbb{R}^{3} \\rightarrow \\mathbb{R}^{3}$.\n",
        "\n",
        "For this illustration we will consider that we have the (x,y,z) coordinates of an object at time $t$ and that we want to predict its coordinates at time $t+1$, not knowing the dynamics of the underlying system (i.e. how the objects move in the corresponding 3D space). \n",
        "\n",
        "Our model should therefore be able to take inputs of the form $x_i \\in \\mathbb{R}^{3}$ and to produce outputs $\\hat{y}_i \\in \\mathbb{R}^{3}$ such that $\\hat{y}_i \\approx y_i$. Note that we distinguish the expected output (i.e. label) for $x_i$, denoted $y_i$, from the prediction of our network denoted $\\hat{y}_i$.\n",
        "\n",
        "For pedagological reasons, we will arbitrarily and explicitly define the function ($f :\\mathbb{R}^{3} \\rightarrow \\mathbb{R}^{3}$) we would like to approximate or find using our network. This function will be used to generate the datasets we will use. It is however important for you to understand that you'll never have access to that function in practice; you'll be only given the training set. "
      ]
    },
    {
      "cell_type": "code",
      "execution_count": 2,
      "metadata": {
        "colab": {
          "base_uri": "https://localhost:8080/"
        },
        "id": "HAmC2iond5f4",
        "outputId": "0730aaa9-a0c6-4ee1-999e-dc4c9d737bfb"
      },
      "outputs": [
        {
          "name": "stdout",
          "output_type": "stream",
          "text": [
            "Input data example\n",
            "x_1 [0.68276457 0.49558762 0.95127517]\n",
            "y_1 [0.68276457 0.98837687 0.41670457]\n"
          ]
        }
      ],
      "source": [
        "# -*- coding: utf-8 -*-\n",
        "import numpy as np\n",
        "\n",
        "theta = 45\n",
        "\n",
        "# our labeling function\n",
        "def x_axis_theta_rotation(p):\n",
        "  \"\"\" return new (x,y,z) coordinates of the point after a theta-based rotation along the x-axis\n",
        "      Note: understanding this function is not important. \n",
        "      We could also add a random noise\n",
        "  \"\"\"\n",
        "  return np.array([\n",
        "    p[0],\n",
        "    p[1]*np.cos(p[0] * theta) - p[2]*np.sin(p[0] * theta),\n",
        "    p[1]*np.sin(p[0] * theta) + p[2]*np.cos(p[0] * theta)\n",
        "  ])\n",
        "\n",
        "# Generate a label example\n",
        "x_1 = np.random.randn(3)\n",
        "y_1 = x_axis_theta_rotation(x_1)\n",
        "\n",
        "print(\"Input data example\")\n",
        "print(\"x_1\", x_1)\n",
        "print(\"y_1\", y_1)\n"
      ]
    },
    {
      "cell_type": "markdown",
      "metadata": {
        "id": "pbWH835ZcjvE"
      },
      "source": [
        "We will have several observations of this form. \n",
        "Let's say we have *N* observations."
      ]
    },
    {
      "cell_type": "code",
      "execution_count": 3,
      "metadata": {
        "colab": {
          "base_uri": "https://localhost:8080/"
        },
        "id": "gZGuS3Gfc1c3",
        "outputId": "350c317a-a7e6-47ef-dc3c-e7f726e58525"
      },
      "outputs": [
        {
          "name": "stdout",
          "output_type": "stream",
          "text": [
            "(1000, 3)\n",
            "Data (first 10 elements)\n",
            "Inputs\n",
            " [[-1.79993156 -1.30395984  0.37734186]\n",
            " [ 2.1083672  -0.69017987 -2.63113985]\n",
            " [-0.11220212  1.99856636  0.29723976]\n",
            " [-1.81803114  0.13031872  0.96726125]\n",
            " [ 1.44008502 -2.37533445 -0.12014034]\n",
            " [-1.73673633 -1.66949509  0.75271282]\n",
            " [ 0.01191135 -2.06511431 -0.68391691]\n",
            " [ 0.83115226  1.72210569  0.32357833]\n",
            " [-0.42299308  1.48745356 -0.41600044]\n",
            " [ 0.31326366 -0.32177886 -1.18680217]]\n",
            "Labels\n",
            " [[-1.79993156 -1.24881744 -0.53212136]\n",
            " [ 2.1083672   0.98925761 -2.53389315]\n",
            " [-0.11220212  0.37973779  1.98454483]\n",
            " [-1.81803114  0.25460193  0.9422076 ]\n",
            " [ 1.44008502  1.03817391 -2.13982298]\n",
            " [-1.73673633  1.83008975 -0.06754215]\n",
            " [ 0.01191135 -1.4262048  -1.64267444]\n",
            " [ 0.83115226  1.74135516 -0.19502086]\n",
            " [-0.42299308  1.38545974 -0.68269742]\n",
            " [ 0.31326366  1.1728736  -0.36933527]]\n",
            "\n",
            "Example\n",
            "input 1:  [-1.79993156 -1.30395984  0.37734186]\n",
            "label 1:  [-1.79993156 -1.24881744 -0.53212136]\n"
          ]
        }
      ],
      "source": [
        "def get_dataset(N, D_in, D_out):\n",
        "\n",
        "  \"\"\"Create N random input and associated label\"\"\"\n",
        "  x = np.random.randn(N, D_in)\n",
        "  y = np.array([x_axis_theta_rotation(xi) for xi in x]) \n",
        "\n",
        "  return (x,y)\n",
        "\n",
        "N = 1000 # size of the dataset\n",
        "D_in, D_out = 3, 3 # input and output dimensions, we name them to distinguish them hereafter\n",
        "\n",
        "x, y = get_dataset(N, D_in, D_out)\n",
        "\n",
        "print(x.shape)\n",
        "\n",
        "print(\"Data (first 10 elements)\")\n",
        "print(\"Inputs\\n\", x[:10,:])\n",
        "print(\"Labels\\n\", y[:10,:])\n",
        "\n",
        "print(\"\\nExample\")\n",
        "print(\"input 1: \", x[0])\n",
        "print(\"label 1: \", y[0])"
      ]
    },
    {
      "cell_type": "markdown",
      "metadata": {
        "id": "6VBSRKTPZ9xo"
      },
      "source": [
        "## ANN: Feedforward Neural Network"
      ]
    },
    {
      "cell_type": "markdown",
      "metadata": {
        "id": "0XhogCm7ZNYI"
      },
      "source": [
        "### The Model\n",
        "\n",
        "We define the architecture of our network, which can be based on several hyperparameters (number of neurons, layers, activation functions...).\n",
        "\n",
        "We will consider a very simple network composed of a single hidden layer with $H$ neurons using the Relu activation function.\n",
        "\n",
        "***\n",
        "\n",
        "#### Rectified Linear Unit (ReLU)\n",
        "\n",
        "ReLU is a popular [activation function](https://en.wikipedia.org/wiki/Activation_function) that can be used while defining an artificial neuron. \n",
        "\n",
        "$\\phi(z) = max(0,z)$\n",
        "\n",
        "<img src=\"https://upload.wikimedia.org/wikipedia/commons/thumb/6/6c/Rectifier_and_softplus_functions.svg/500px-Rectifier_and_softplus_functions.svg.png\" alt=\"ReLU\" width=\"300\"/>\n",
        "\n",
        "***\n",
        "By convention, we consider inputs to be row vectors (cf. $x \\in \\mathbb{R}^{N \\times D_{in}}$). \n",
        "\n",
        "Input $i$: $x_i \\in \\mathbb{R}^{1 \\times 3}$ \n",
        "\n",
        "The predictive function $\\hat{f} :\\mathbb{R}^{3} \\rightarrow \\mathbb{R}^{3}$  (our neural network) will be:\n",
        "\n",
        "$\\hat{f}(x_i) = \\hat{y}_i = relu(x_i W_{1}) W_{2}$ \n",
        "\n",
        "with: \n",
        "* $W_{1} \\in \\mathbb{R}^{3 \\times H}$\n",
        "* $relu(z) = [max(0,z_0),max(0,z_1), ...]$  \n",
        "* $W_{2} \\in \\mathbb{R}^{H \\times 3}$\n",
        "\n",
        "In this simple model we do not consider bias. \n",
        "\n",
        "Note also that setting the number of neurons in this single-layer network, the predictions are deterministically determined by the weights $W_{1}$ and $W_{2}$. It means that the outputs of our model are fully determined by the weights of the network. Those are the sole parameters of our simple MLP (Multilayer Perceptron) model. \n",
        "\n",
        "Note also that we can use this network on a batch of inputs.\n",
        "with $x = [x_0, x_1, ..., x_N]^T \\in \\mathbb{R}^{N \\times 3}$.\n",
        "\n",
        "In the following we will therefore consider: \n",
        "\n",
        "$\\hat{f} :\\mathbb{R}^{N \\times 3} \\rightarrow \\mathbb{R}^{N \\times 3}$\n",
        "\n"
      ]
    },
    {
      "cell_type": "markdown",
      "metadata": {
        "id": "49J5jK5T32HG"
      },
      "source": [
        "### First implementation\n",
        "\n",
        "\n",
        "> **Exercice \"Forward pass\"**:\n",
        "> \n",
        "> The forward pass of a network is used to compute the outputs for a batch of inputs (see $\\hat{f}$ definition above).\n",
        "> \n",
        "> Considering thes simple MLP model we defined, we ask you to implement the forward pass using Numpy.\n",
        "> \n",
        "> Instructions:\n",
        "> * According to our task, both the input and the output must be in $\\mathbb{R}^{N \\times 3}$. You'll denote $D_{in}$ and $D_{out}$, respectively `D_in` and `D_out` the input and output dimensions. As we already said, we here have $D_{in}=D_{out}=3$, but we want our network to be generic so reuse existing `D_in` and `D_out` variables. \n",
        "> * Define a variable `H` to set the number of neurons; we want to be able to modify it.\n",
        "> * Initialize the weights randomly considering a standard normal distribution (mean=0, stdev=1). \n",
        "> * Decompose each step of the forward pass, i.e., do not use a fancy one-line expression. Only use Numpy functions to implement each step.\n",
        "> * Do not define a class now, just code it into a cell.\n",
        "\n",
        "\n"
      ]
    },
    {
      "cell_type": "code",
      "execution_count": 9,
      "metadata": {
        "colab": {
          "base_uri": "https://localhost:8080/"
        },
        "id": "6HDjDdAMjuIO",
        "outputId": "ec062476-940e-43fe-ad36-56ef18b3cab6"
      },
      "outputs": [
        {
          "name": "stdout",
          "output_type": "stream",
          "text": [
            "[[ 0.38873991  0.30423318  0.98061864  0.68800225  2.1124912  -0.68371999\n",
            "  -0.08777996 -2.14742613 -0.72189652 -0.72548667 -0.57859974 -0.04834429\n",
            "   1.13061805  0.8929775  -0.65675058 -0.04860546  0.81848168 -0.44627841\n",
            "  -1.54438716 -0.21301029  1.64340546 -0.11717445  0.29401115  0.01154062\n",
            "  -0.13605263 -1.98743131 -0.96650479 -0.0826066  -0.46383769  0.54439204\n",
            "   0.85419758  0.13124704  0.97650244 -0.85421039 -0.87698778 -0.941925\n",
            "   0.15687616  0.3449859  -0.23991183  0.13910483 -0.40747605  0.0640728\n",
            "   0.23589365  0.92573963  1.08783257 -0.7324608  -1.21775041  0.83652332\n",
            "   0.01572257 -1.15167382 -1.23312634 -0.97417055  0.9755757   0.04828365\n",
            "  -0.24440999  0.83922266 -0.44575234  0.5109142   0.22013797 -0.89809364\n",
            "  -0.35179762 -0.61612767 -1.0918398   0.95741808  0.76244854  1.5634177\n",
            "   0.14173852  0.09951762  0.35222865  0.56473802  1.93125441 -0.05826745\n",
            "  -0.28288236  0.49483195 -1.43875004  0.48081702  0.37786628 -0.66589951\n",
            "   0.96913335  1.28026257  0.00703551  0.27127053 -0.85717452  0.79363582\n",
            "  -0.04848151 -1.43964392 -1.03945716 -0.19762381  1.7080852   0.24418194\n",
            "  -0.87896836 -0.2118309  -0.74472545 -1.01148501  0.12112569  0.3856044\n",
            "   2.54407575  1.3945041   1.15285212 -0.06455674]\n",
            " [-0.29806657 -0.22928874  1.37597395  1.12679562  1.46793467  0.97783877\n",
            "   0.97337635 -0.22836958  0.23858397 -0.47656015  0.23009611  0.80465426\n",
            "  -1.14893343  0.79379322  2.63982024 -0.13449314 -1.6340905   0.267582\n",
            "  -2.07668298 -0.72924668  0.00499054 -1.15345208  1.16484546  0.33565024\n",
            "   0.75453347  0.60547032 -2.31183091  0.03597394 -1.21022534  1.19262665\n",
            "  -0.38086264 -0.81687866  0.28401972 -0.2992105  -0.1087357  -0.78175802\n",
            "  -0.69989582  0.32436982 -0.50420837  1.80100272  0.57716522 -1.09531553\n",
            "  -0.59413494  0.93541681  1.0508279   0.99121755 -0.81478613  0.37462815\n",
            "  -1.6448478  -1.43705152  0.1372857  -0.72443105 -1.65476694 -0.79272802\n",
            "   0.18756582 -2.85845383  1.40161209 -0.29895969 -0.08854816 -0.27242943\n",
            "  -0.12266124  0.69856203 -1.67341013  0.24661035 -0.11844997 -0.11813392\n",
            "  -0.54444809  1.36312947  0.86004334 -0.43438335  0.22237712  0.96875908\n",
            "   2.36521363 -0.54846567 -0.97346502  1.57839424 -0.07489936 -0.86813758\n",
            "   0.72904403 -0.03569575 -0.61731484 -0.37439498  0.89780376  0.98447302\n",
            "  -0.22345999 -0.0163079   0.88765265  0.25448427 -0.23437812 -0.99226011\n",
            "   0.00898881  0.58822687 -1.11003655 -0.06602309 -0.5146396   1.72670326\n",
            "   0.70489475 -0.48383969 -0.33348202  0.57622931]\n",
            " [-0.09770716  0.08577646  0.11644389  1.53216194 -0.4314973   1.55196034\n",
            "  -0.72389839 -1.65485363  0.83388612  0.31336785 -0.9192397   0.23279848\n",
            "   0.20727116  1.77517416 -0.70189115  0.6879657  -0.73900722  0.52749806\n",
            "  -0.90616416 -1.09284299  0.333972    1.04029969 -0.82535976  0.06368748\n",
            "   1.67877539 -0.02477699 -1.24353073  0.03050631 -2.32990512  0.3619871\n",
            "   0.06158246 -0.25525517  0.11616549 -0.59239407  0.14122054 -0.15731283\n",
            "   1.69935865 -0.7537475  -1.69878755 -1.85407423 -0.02713716  1.2920235\n",
            "  -2.67996512  2.30417342  0.27750098 -1.08538483 -0.07597147  0.29029466\n",
            "   0.76100182  0.50958575 -0.65956247  0.26572966 -0.80241361 -1.15084612\n",
            "   0.40789782  0.42870568  0.45186162 -1.06277011  1.70209015  0.58039735\n",
            "  -0.82029607 -1.13632934 -0.72508237 -0.43622821 -0.36454285  0.45524868\n",
            "  -0.37921579  0.18138384  1.12944531  1.07755774 -0.57624153 -0.83950084\n",
            "   0.65677836 -1.47108614 -0.91256526 -0.96932051 -1.96276799  0.9034334\n",
            "  -0.17703742 -0.84081174  1.25038047 -0.25633235  0.31585689 -0.53081684\n",
            "  -2.32955627 -0.7488749   0.54096765  0.09365813  0.13888002 -0.91987788\n",
            "  -0.92223544  0.14763309  0.15919314  0.62942943 -0.6902375  -1.28473886\n",
            "  -0.75925272  1.15962476  0.96548069 -3.42459963]] [[ 1.68847574  0.25723867  0.83832839]\n",
            " [-1.63267439 -0.79809261  0.75063502]\n",
            " [ 1.13164207 -0.84052307  0.7035595 ]\n",
            " [ 0.64236381 -3.39819849  1.98009712]\n",
            " [-2.51325183 -1.3427968  -1.33463795]\n",
            " [ 0.5059453   0.3761462   0.30458026]\n",
            " [ 1.33356694 -1.03426343  0.75065134]\n",
            " [-0.35681602  1.22347323  1.39726461]\n",
            " [-0.85206739  2.24491508 -0.08729693]\n",
            " [-0.99335838  0.04316998  0.19339232]\n",
            " [-0.10588324 -0.93666167  0.63389914]\n",
            " [ 1.44779516  0.71463071  1.77962974]\n",
            " [-1.09419254  1.91904074  0.37622502]\n",
            " [ 0.00798099  0.02497489  0.94325631]\n",
            " [-0.38585598  0.104861   -0.63344887]\n",
            " [-0.21125449 -0.49251473  1.1774172 ]\n",
            " [-1.49081552 -0.98124035  0.44212358]\n",
            " [-0.35447016 -0.84656085 -0.76268632]\n",
            " [ 1.88385939 -0.68999334 -0.6173991 ]\n",
            " [-0.25813129 -0.80214952 -0.83170984]\n",
            " [-1.51794164  0.90354508  0.40241418]\n",
            " [ 0.83065609  1.42178591 -0.25208372]\n",
            " [ 1.10678858  1.70668706 -0.07517549]\n",
            " [ 0.40638777 -0.32908117  0.519484  ]\n",
            " [-1.11977119 -0.14620843  0.71051268]\n",
            " [-0.20455604 -0.21417984 -0.83985647]\n",
            " [-0.98197082 -0.89485157  0.72867598]\n",
            " [ 1.09400743  0.78019692  1.42819191]\n",
            " [ 0.83442702 -1.03159457  0.9326967 ]\n",
            " [ 0.44741311 -0.63438459 -0.65282977]\n",
            " [-0.92296658 -0.69765359  0.52055615]\n",
            " [-0.167856    0.09713898  0.53110016]\n",
            " [ 0.39785815  1.46423146  1.6674897 ]\n",
            " [-1.24529194  0.90374996 -1.54129768]\n",
            " [-0.84722768  0.87846946 -2.42138669]\n",
            " [-1.00645919 -0.04241206 -0.02015715]\n",
            " [-1.28260152  0.49330171  0.19384572]\n",
            " [ 0.88986382  0.68311793 -1.0463865 ]\n",
            " [-0.50578069  1.07204321 -0.05024021]\n",
            " [ 0.54934265 -0.26931249 -0.37822253]\n",
            " [-1.48396242 -0.37241252 -0.40952315]\n",
            " [ 1.67155901  0.6653033  -0.94409351]\n",
            " [-0.43191543  0.73026363  1.00687431]\n",
            " [ 1.02780445 -0.39354691 -1.89551505]\n",
            " [ 2.09607468  0.44628858 -0.11989805]\n",
            " [ 1.54121027 -0.09373803 -2.53559306]\n",
            " [ 1.23914774 -0.46506676 -0.51190807]\n",
            " [-0.41637611  0.41150579  0.3398558 ]\n",
            " [ 0.17312876  0.5363391  -0.64590785]\n",
            " [-0.11017733  0.46614555  0.64744308]\n",
            " [ 2.8239273   1.73943198  2.12043735]\n",
            " [-0.78747595  0.32189063 -1.76644184]\n",
            " [ 0.0368302  -0.30348381  0.68054255]\n",
            " [-1.69349215  1.37429824 -0.9057317 ]\n",
            " [-1.87465095 -0.18619452  0.28777843]\n",
            " [ 0.73903604  0.60452188  1.06948382]\n",
            " [-1.58661947 -1.22611794  0.20599126]\n",
            " [ 0.82856875 -0.06130727 -0.55089883]\n",
            " [ 0.05951895  0.2939582   1.56043232]\n",
            " [-2.10750449  1.12373214 -0.25159666]\n",
            " [ 1.76480191  1.1788009   1.11930936]\n",
            " [-0.7662032  -1.13805207  0.50988421]\n",
            " [ 0.38720794  0.15473272  0.15882082]\n",
            " [ 1.07326077 -0.25764544 -1.22480676]\n",
            " [ 0.93545305 -0.07798391  0.84525655]\n",
            " [ 0.20676863 -0.82423782  0.10895401]\n",
            " [ 1.1719416  -0.64327119  0.05613427]\n",
            " [ 0.73243566  1.91113638 -1.64531618]\n",
            " [ 0.48879167  0.80991221 -1.24249345]\n",
            " [ 0.3223619  -0.60972949  0.77437028]\n",
            " [-0.01818034 -0.19662923  0.39239308]\n",
            " [ 1.48484258  0.07034727  0.28223813]\n",
            " [ 0.67929746  0.69604162 -1.15259021]\n",
            " [-1.18537972  0.45943876 -0.54846105]\n",
            " [ 0.39224197  2.24840044 -0.03325518]\n",
            " [-0.64212984  0.22764861  0.93192179]\n",
            " [ 0.94551193 -0.40846809 -0.02808548]\n",
            " [ 0.49246064  0.53048077 -0.41654908]\n",
            " [ 1.72768269 -0.25392642 -1.12883383]\n",
            " [ 1.15288656 -0.17034356  0.29604184]\n",
            " [ 1.30361616  0.00448581  2.34455856]\n",
            " [ 1.37124081  0.45142571 -1.34131079]\n",
            " [-1.54255045  0.79166224  0.29857796]\n",
            " [-0.37226212  0.54935445  0.41193866]\n",
            " [-0.15563739  0.72790856  0.64835728]\n",
            " [ 0.74931551 -0.17595855 -0.15906522]\n",
            " [ 1.15683232 -1.08760485  0.18213995]\n",
            " [-0.50514186 -0.50107428 -0.07374192]\n",
            " [-0.58610444  0.49263181 -1.30955443]\n",
            " [-0.38104638 -0.02302505  0.24088788]\n",
            " [-0.31445456 -1.20551787  1.5155345 ]\n",
            " [-0.56994478 -2.06939399  1.64359817]\n",
            " [ 1.22750454  1.54426653 -0.33651747]\n",
            " [ 0.49283021 -0.28131609 -1.05980101]\n",
            " [-1.10411574 -0.00656388 -0.90533882]\n",
            " [-0.84242975 -0.60755464 -0.91084089]\n",
            " [-1.34569207  1.34782847 -0.84218451]\n",
            " [-1.82740017  1.20716912  0.72965963]\n",
            " [ 0.32179016 -0.72793262 -0.28246972]\n",
            " [ 0.24467752  1.13845157 -0.93793041]]\n",
            "[[ 12.7857735   26.04462018  -2.22094895]\n",
            " [-15.21176349  22.8029221   -2.23536828]\n",
            " [  9.84870376  -8.67537789 -13.68869364]\n",
            " ...\n",
            " [  1.34131345  15.83840521   7.54338338]\n",
            " [  0.91775629   3.41411132   3.47405761]\n",
            " [  4.94900491  25.29562114  16.50887335]]\n"
          ]
        }
      ],
      "source": [
        "D_in, D_out = 3, 3\n",
        "H = 100 #set 100 neurons\n",
        "\n",
        "#initializing random weights\n",
        "w1 = np.random.randn(D_in, H)\n",
        "w2 = np.random.randn(H, D_out)\n",
        "print(w1, w2)\n",
        "\n",
        "#forward pass\n",
        "h = x @ w1 \n",
        "h_relu = np.maximum(0, h)\n",
        "y_pred = h_relu @ w2\n",
        "\n",
        "print(y_pred)\n",
        "\n"
      ]
    },
    {
      "cell_type": "markdown",
      "metadata": {
        "id": "dr0iFPdRIkwX"
      },
      "source": [
        "Obviously, the weights being randomly defined, do not expect to have good predictions at this stage. \n",
        "\n",
        "Our job will now be to define a clever procedure to train those parameters in order to obtain a good predictor. "
      ]
    },
    {
      "cell_type": "markdown",
      "metadata": {
        "id": "ibKMhFQuZlkR"
      },
      "source": [
        "## Training procedure"
      ]
    },
    {
      "cell_type": "markdown",
      "metadata": {
        "id": "JwMEDR9I3bog"
      },
      "source": [
        "\n",
        "\n",
        "### Generalities \n",
        "\n",
        "Training the network will aim at finding the $W_{1}$ and $W_{2}$ matrices in order to minimize the loss function, i.e. the function we will use to evaluate the error of our model.\n",
        "\n",
        "This error function (loss function) will be defined this way: \n",
        "\n",
        "$l(\\hat{y}, y) = \\sum_{i=0}^{N-1} \\sum_{j=0}^{D_{out}-1} (\\hat{y}_{i,j} - y_{i,j})^2$\n",
        "\n",
        "*Important*: note that loss function only makes sense in a regression setting. \n",
        "\n",
        "with $\\hat{y}, y \\in \\mathbb{R}^{N \\times D_{out}}$\n",
        "\n",
        "Processing the data, the weights will be iteratively modified in order to reduce the loss.\n",
        "\n",
        "To do so, at each iteration, we will apply two passes: \n",
        "1. Forward pass: compute the loss for the processed input (it can be a subset of the whole training set or even one input). We already know how to do that (see above).\n",
        "2. Backward pass: as we know the expected value for each input processed during the training phase, we can compute the loss for the current set of predictions. As we want to minimize that loss, we will:\n",
        "  *  Compute the partial derivative of the loss with regards to the parameters (here $W_{1}$ and $W_{2}$), also named [gradients](https://en.wikipedia.org/wiki/Gradient) and denoted in our case $\\nabla_{W_1}$ and $\\nabla_{W_2}$. Those gradients will denote the direction of greatest increase of the loss, and can therefore be used to change the parameters to influence the loss (following the opposite direction, we will be able to iteratively minimize the loss). To compute this gradient, we will simply apply the chain rule considering that all functions used in our network have a derivative (chain rule: https://en.wikipedia.org/wiki/Chain_rule) - please put aside consideration induced by the relu function for now, that's not important.\n",
        "  * Adjust the parameters ($W_{1}$ and $W_{2}$) applying an update rule based on the gradient, e.g. considering a constant pre-defined learning rate $\\eta$, this rule could be $W_1 = W_1 - \\eta \\times \\nabla_{W_1}$. This is called backpropagation. \n",
        "\n",
        "Computing the gradients is probably the most technical part, but it should not be a problem as it only requires to compute derivative.\n",
        "We provide a sketch to compute $\\nabla_{W_2}$ (using shortcut notations):\n",
        "\n",
        "\n",
        "\n",
        "$\\frac{\\partial l}{\\partial W_2} = \\frac{\\partial l}{\\partial \\hat{y}} \\frac{\\partial \\hat{y}}{\\partial W_2}$\n",
        "\n",
        "$\\frac{\\partial l}{\\partial \\hat{y}} = 2 (\\hat{y} - y)$ $\\in \\mathbb{R}^{N \\times D_{out}}$ \n",
        "\n",
        "$\\frac{\\partial \\hat{y}}{\\partial W_2} : relu(x_i W_{1})$ $\\in \\mathbb{R}^{N \\times H}$ (shortchut)\n",
        "\n",
        "$\\frac{\\partial l}{\\partial W_2} =  relu(x_i W_{1})^T \\cdot (2 (\\hat{y} - y))$ $\\in \\mathbb{R}^{H \\times D_{out}}$, recall that $W_2 \\in \\mathbb{R}^{H \\times D_{out}}$ \n",
        "\n",
        "Details on how to compute the gradient on linear models (considering multivariate calculus) are provided in that resource: https://web.eecs.umich.edu/~justincj/teaching/eecs442/notes/linear-backprop.html\n"
      ]
    },
    {
      "cell_type": "markdown",
      "metadata": {
        "id": "aKJ1GHh7ZxAz"
      },
      "source": [
        "### First implementation"
      ]
    },
    {
      "cell_type": "markdown",
      "metadata": {
        "id": "S-mcKH4xILx2"
      },
      "source": [
        "> **Exercise: Training procedure implementation**\n",
        ">\n",
        "> You can now try to implement the training procedure"
      ]
    },
    {
      "cell_type": "markdown",
      "metadata": {
        "id": "6fy1LQlt58yU"
      },
      "source": [
        "We define below our first implementation of the training procedure"
      ]
    },
    {
      "cell_type": "code",
      "execution_count": 10,
      "metadata": {
        "colab": {
          "base_uri": "https://localhost:8080/"
        },
        "id": "yXeIy6cRTf_U",
        "outputId": "1dd331d5-1baa-4d42-ed96-0ba1487df76b"
      },
      "outputs": [
        {
          "name": "stdout",
          "output_type": "stream",
          "text": [
            "0 593064.9906353592\n",
            "1000 2515.662449744261\n",
            "2000 2199.988555925089\n",
            "3000 2099.905324874666\n",
            "4000 2047.1767404105944\n",
            "5000 2007.9704604362557\n",
            "6000 1978.1271142330763\n",
            "7000 1954.7044790202483\n",
            "8000 1938.1652729646285\n",
            "9000 1925.263745851707\n",
            "10000 1914.0753029238842\n",
            "11000 1904.4905741575371\n",
            "12000 1896.2345574033748\n",
            "13000 1888.4159267881673\n",
            "14000 1882.1796907261742\n",
            "15000 1876.0773113979385\n",
            "16000 1870.6153519539153\n",
            "17000 1865.4711800557807\n",
            "18000 1861.0203742339977\n",
            "19000 1857.0712819771463\n",
            "20000 1853.978600694682\n",
            "21000 1850.547448024821\n",
            "22000 1847.1173009306722\n",
            "23000 1844.064175117086\n",
            "24000 1841.1324613487475\n",
            "25000 1838.6491261540373\n",
            "26000 1836.351552573351\n",
            "27000 1833.829912002415\n",
            "28000 1831.8153863028988\n",
            "29000 1830.0568492481411\n",
            "30000 1828.4456083447599\n",
            "31000 1826.8515155378775\n",
            "32000 1825.3110655826974\n",
            "33000 1823.8151376648557\n",
            "34000 1822.3588427848274\n",
            "35000 1820.9290888063074\n",
            "36000 1819.5043471236863\n",
            "37000 1817.8880142274882\n",
            "38000 1816.4177068408487\n",
            "39000 1815.0429195720071\n",
            "40000 1813.867360614948\n",
            "41000 1812.7567042138985\n",
            "42000 1811.670127074045\n",
            "43000 1810.6000844137784\n",
            "44000 1809.479849287171\n",
            "45000 1808.3988572812432\n",
            "46000 1807.3321703671834\n",
            "47000 1806.34167002545\n",
            "48000 1805.3508994680037\n",
            "49000 1804.3926091742396\n",
            "50000 1803.4466068215875\n"
          ]
        }
      ],
      "source": [
        "# initializing variables\n",
        "H = 100\n",
        "w1 = np.random.randn(D_in, H)\n",
        "w2 = np.random.randn(H, D_out)\n",
        "learning_rate = 1e-6\n",
        "\n",
        "for t in range(50001):\n",
        "    # do the forward pass\n",
        "    h = x.dot(w1)\n",
        "    h_relu = np.maximum(h, 0)\n",
        "    y_pred = h_relu.dot(w2)\n",
        "\n",
        "    # calculate square loss\n",
        "    loss = np.square(y_pred - y).sum()\n",
        "    if t % 1000 == 0:\n",
        "      print(t, loss)\n",
        "\n",
        "    # do the backward pass to adjust weights\n",
        "    grad_y_pred = 2.0 * (y_pred - y)\n",
        "    grad_w2 = h_relu.T.dot(grad_y_pred)\n",
        "    grad_h_relu = grad_y_pred.dot(w2.T)\n",
        "    grad_h_relu[h < 0] = 0\n",
        "    grad_w1 = x.T.dot(grad_h_relu)\n",
        "    w1 -= learning_rate * grad_w1\n",
        "    w2 -= learning_rate * grad_w2\n"
      ]
    },
    {
      "cell_type": "markdown",
      "metadata": {
        "id": "lygCcZMfag7t"
      },
      "source": [
        "As we can see, it looks like our network is learning something. \n",
        "\n",
        "To be more precise, the training procedure we defined enables to iteratively minimize the loss (on the training set). "
      ]
    },
    {
      "cell_type": "markdown",
      "metadata": {
        "id": "hsKO0FaVYb2d"
      },
      "source": [
        "## Refactoring / Refinements\n",
        "\n",
        "Let's restructure the code in order to distinguish the different parts.\n",
        "Several approaches could have been chosen (and a lot of choices could be discussed and questioned in term of design, but that's not the aim of the course). "
      ]
    },
    {
      "cell_type": "markdown",
      "metadata": {
        "id": "k6JaASu8asly"
      },
      "source": [
        "### Model implementation\n",
        "\n",
        "\n",
        "> **Exercise: refactoring**\n",
        ">\n",
        "> Refactor the code. Create a class `SimpleANN` with a constructor enabling to define $D_{in}$, $D_{out}$, $H$.\n",
        ">\n",
        "> Define a `forward` method in which you'll implement the forward pass (the method returns the prediction)."
      ]
    },
    {
      "cell_type": "code",
      "execution_count": 12,
      "metadata": {},
      "outputs": [],
      "source": [
        "#keeping the same notation for the variables\n",
        "\n",
        "class ANN :\n",
        "    \"\"\"\n",
        "    the ANN is a class which permits predicting the three values\n",
        "    \"\"\"\n",
        "    def __init__(self, H: int, D_in: int, D_out: int):\n",
        "        #init the weights randomly\n",
        "        self.w1 = np.random.randn(D_in, H)\n",
        "        self.w2 = np.random.randn(H, D_out)\n",
        "    \n",
        "    def forward(self, x):\n",
        "        h = x @ self.w1\n",
        "        h_relu = np.maximum(0, h)\n",
        "        y_pred = h_relu @ self.w2\n",
        "\n",
        "        return y_pred"
      ]
    },
    {
      "cell_type": "markdown",
      "metadata": {
        "id": "hE22BB_sa1on"
      },
      "source": [
        "### Trainer implementation"
      ]
    },
    {
      "cell_type": "code",
      "execution_count": 14,
      "metadata": {
        "id": "VcpN30xJa2DA"
      },
      "outputs": [],
      "source": [
        "class Trainer:\n",
        "  \"\"\"\n",
        "    the Trainer is a class which permits adjust the weights of ANN class\n",
        "  \"\"\"\n",
        "\n",
        "  def __init__(self, ann: ANN, training_set):\n",
        "    self.learning_rate = 1e-6 \n",
        "    self.ann = ann\n",
        "    self.x, self.y = training_set\n",
        "\n",
        "  #calculate the square loss error\n",
        "  def compute_loss(self, y_pred, y):\n",
        "    return np.square(y_pred - y).sum()\n",
        "    \n",
        "\n",
        "  def step(self):\n",
        "    y_pred = self.ann.forward(self.x)\n",
        "    loss = self.compute_loss(y_pred, self.y)\n",
        "    \n",
        "    # backward step\n",
        "    h = self.x.dot(self.ann.w1)\n",
        "    h_relu = np.maximum(h, 0)\n",
        "    grad_y_pred = 2.0 * (y_pred - y)\n",
        "    grad_w2 = h_relu.T.dot(grad_y_pred)\n",
        "    grad_h_relu = grad_y_pred.dot(self.ann.w2.T)\n",
        "    grad_h_relu[h < 0] = 0\n",
        "    grad_w1 = self.x.T.dot(grad_h_relu)\n",
        "    self.ann.w1 -= self.learning_rate * grad_w1\n",
        "    self.ann.w2 -= self.learning_rate * grad_w2\n",
        "\n",
        "    return loss\n",
        "\n",
        "  def fit(self, epoch: int, log_frequency: int):\n",
        "    log_loss = [] # we just log the loss\n",
        "    for i in range(epoch+1):\n",
        "      loss = self.step()\n",
        "      if i % log_frequency == 0:\n",
        "        print(i, loss)\n",
        "        log_loss.append((i,loss))\n",
        "    return log_loss"
      ]
    },
    {
      "cell_type": "markdown",
      "metadata": {
        "id": "XVNshkK9bIRN"
      },
      "source": [
        "### Training tests"
      ]
    },
    {
      "cell_type": "markdown",
      "metadata": {
        "id": "5yx5dIj1dyah"
      },
      "source": [
        "We can now easily reimplement the training loop"
      ]
    },
    {
      "cell_type": "code",
      "execution_count": 15,
      "metadata": {
        "colab": {
          "base_uri": "https://localhost:8080/",
          "height": 659
        },
        "id": "uhGnSij8eh6Y",
        "outputId": "1bbd1c59-b28f-4bef-82a9-525c815f57a1"
      },
      "outputs": [
        {
          "name": "stdout",
          "output_type": "stream",
          "text": [
            "0 636110.9547903754\n",
            "1000 2495.222429915454\n",
            "2000 2238.324581222505\n",
            "3000 2135.9493308267774\n",
            "4000 2074.870667457689\n",
            "5000 2030.7580831855585\n",
            "6000 1997.573783129069\n",
            "7000 1969.1069730392855\n",
            "8000 1949.31973410875\n",
            "9000 1934.5891601739659\n",
            "10000 1922.0745105899366\n",
            "11000 1911.7540691375366\n",
            "12000 1903.077008511406\n",
            "13000 1895.6243024220782\n",
            "14000 1888.1846609737308\n",
            "15000 1881.6711643339795\n",
            "16000 1876.069805660961\n",
            "17000 1870.7025454756645\n",
            "18000 1865.3180650499944\n",
            "19000 1859.2425870513375\n",
            "20000 1853.3108548821556\n"
          ]
        },
        {
          "data": {
            "text/plain": [
              "[<matplotlib.lines.Line2D at 0x2575c0a2c50>]"
            ]
          },
          "execution_count": 15,
          "metadata": {},
          "output_type": "execute_result"
        },
        {
          "data": {
            "image/png": "[encoded data removed]",
            "text/plain": [
              "<Figure size 640x480 with 1 Axes>"
            ]
          },
          "metadata": {},
          "output_type": "display_data"
        }
      ],
      "source": [
        "ann = ANN(H=H, D_in=3, D_out=3)\n",
        "trainer = Trainer(ann, (x, y))\n",
        "log_loss = trainer.fit(epoch=20000, log_frequency=1000)\n",
        "\n",
        "# plotting\n",
        "import matplotlib.pyplot as plt\n",
        "del log_loss[0] # we remove the first loss (random weights)\n",
        "res = list(zip(*log_loss)) \n",
        "plt.plot(res[0], res[1])"
      ]
    },
    {
      "cell_type": "markdown",
      "metadata": {
        "id": "2ztMH5bKhFD7"
      },
      "source": [
        "Let's see how our neural network performes on unseen data : the only things that matters for us.\n",
        "\n",
        "To do so we will generate another set of labelled data not used during training."
      ]
    },
    {
      "cell_type": "code",
      "execution_count": 35,
      "metadata": {
        "colab": {
          "base_uri": "https://localhost:8080/"
        },
        "id": "M44TaRIAhcFa",
        "outputId": "a5e6a469-3aff-401b-e79d-195f23684471"
      },
      "outputs": [
        {
          "name": "stdout",
          "output_type": "stream",
          "text": [
            "training loss:  1853.305072936229\n",
            "test loss    :  2203.1820089676185\n",
            "diff         :  349.8769360313895\n"
          ]
        }
      ],
      "source": [
        "#prediction on the train dataset\n",
        "y_pred = ann.forward(x)\n",
        "training_loss = trainer.compute_loss(y_pred, y)\n",
        "\n",
        "#prediction on a unknown dataset\n",
        "x_test, y_test = get_dataset(N, D_in, D_out)\n",
        "y_pred_test = ann.forward(x_test)\n",
        "test_loss = trainer.compute_loss(y_pred_test, y_test)\n",
        "\n",
        "#difference of performances between test and train dataset\n",
        "print(\"training loss: \", training_loss)\n",
        "print(\"test loss    : \", test_loss)\n",
        "print(\"diff         : \", abs(training_loss - test_loss))"
      ]
    },
    {
      "cell_type": "markdown",
      "metadata": {
        "id": "pEiz3jeXbYbC"
      },
      "source": [
        "Well... even if results may vary from run to run, it looks like our neural network is pretty good on the training set but fails to perform similarly on the test set... we don't like this at all.\n",
        "We are maybe overfitting, i.e. memorizing the training set. "
      ]
    },
    {
      "cell_type": "markdown",
      "metadata": {
        "id": "KQDBBcTIjwil"
      },
      "source": [
        "### Train, Validation, Test \n",
        "\n",
        "\n",
        "\n",
        "To monitor, and eventually overcome this, we will split our initial labelled dataset into 3 parts: \n",
        "* training set: the data we will use to update the weights of our network\n",
        "* validation set: the data we will use to monitor that we are not overfitting the training set during training\n",
        "* test set: the data we will use to evaluate our trained ANN on data not used during the training phase\n",
        "\n",
        "We will monitor our loss on the validation set during training and stop when the difference between our training and validation losses stresses overfitting.\n",
        "\n",
        "We will modify our trainer to accept a validation set. "
      ]
    },
    {
      "cell_type": "code",
      "execution_count": 36,
      "metadata": {
        "id": "KARuLVwdnolx"
      },
      "outputs": [],
      "source": [
        "class TrainerAdvanced(Trainer):\n",
        "  \"\"\"\n",
        "    Simple Trainer with validation\n",
        "  \"\"\"\n",
        "\n",
        "  def __init__(self, ann: ANN, training_set, validation_set):\n",
        "    Trainer.__init__(self, ann, training_set)\n",
        "    self.x_val, self.y_val = validation_set\n",
        "    \n",
        "  def fit(self, epoch: int, log_frequency: int):\n",
        "\n",
        "    log_loss = [] # we just log the losses\n",
        "\n",
        "    for i in range(epoch+1):\n",
        "      \n",
        "      loss_train = self.step()\n",
        "\n",
        "      if i % log_frequency == 0:\n",
        "\n",
        "        # validation part\n",
        "        y_pred_val = self.ann.forward(self.x_val)\n",
        "        loss_val = self.compute_loss(y_pred_val, self.y_val)\n",
        "\n",
        "        log_loss.append((i, loss_train, loss_val))\n",
        "        loss_train_evol = 0 if len(log_loss) == 1 else loss_train - log_loss[len(log_loss)-2][1]\n",
        "        loss_val_evol = 0 if len(log_loss) == 1 else loss_val - log_loss[len(log_loss)-2][2]\n",
        "        \n",
        "        print(\"{} train: {:.2f}   valid: {:.2f}   diff: {:.2f}   loss train ev.: {:.2f}   loss val ev.: {:.2f}\".format(i, loss_train, loss_val, loss_train - loss_val, loss_train_evol, loss_val_evol))\n",
        "    return log_loss "
      ]
    },
    {
      "cell_type": "markdown",
      "metadata": {
        "id": "vmU7f4IZpDS3"
      },
      "source": [
        "Let's train our model using that new Trainer.\n",
        "\n",
        "Note that we already have a training set, and test set. \n",
        "We will only create a validation. \n",
        "Generally you'll have to split an initial dataset to obtain those sets."
      ]
    },
    {
      "cell_type": "code",
      "execution_count": 37,
      "metadata": {
        "colab": {
          "base_uri": "https://localhost:8080/",
          "height": 1000
        },
        "id": "rZlHVXcFpIeC",
        "outputId": "79fc76f6-70ea-492b-bac5-db47bd908c4f"
      },
      "outputs": [
        {
          "name": "stdout",
          "output_type": "stream",
          "text": [
            "0 train: 1853.31   valid: 2317.76   diff: -464.45   loss train ev.: 0.00   loss val ev.: 0.00\n",
            "1000 train: 1847.97   valid: 2318.63   diff: -470.65   loss train ev.: -5.33   loss val ev.: 0.87\n",
            "2000 train: 1843.66   valid: 2318.35   diff: -474.69   loss train ev.: -4.31   loss val ev.: -0.27\n",
            "3000 train: 1839.73   valid: 2318.00   diff: -478.27   loss train ev.: -3.93   loss val ev.: -0.36\n",
            "4000 train: 1835.61   valid: 2317.77   diff: -482.16   loss train ev.: -4.12   loss val ev.: -0.23\n",
            "5000 train: 1831.33   valid: 2318.02   diff: -486.69   loss train ev.: -4.27   loss val ev.: 0.25\n",
            "6000 train: 1827.35   valid: 2317.98   diff: -490.63   loss train ev.: -3.99   loss val ev.: -0.04\n",
            "7000 train: 1823.51   valid: 2316.05   diff: -492.54   loss train ev.: -3.83   loss val ev.: -1.93\n",
            "8000 train: 1819.49   valid: 2314.19   diff: -494.70   loss train ev.: -4.03   loss val ev.: -1.87\n",
            "9000 train: 1816.32   valid: 2312.18   diff: -495.86   loss train ev.: -3.17   loss val ev.: -2.01\n",
            "10000 train: 1813.61   valid: 2310.79   diff: -497.18   loss train ev.: -2.71   loss val ev.: -1.39\n",
            "11000 train: 1811.14   valid: 2309.89   diff: -498.75   loss train ev.: -2.48   loss val ev.: -0.90\n",
            "12000 train: 1808.91   valid: 2309.22   diff: -500.31   loss train ev.: -2.23   loss val ev.: -0.67\n",
            "13000 train: 1806.87   valid: 2308.77   diff: -501.90   loss train ev.: -2.04   loss val ev.: -0.45\n",
            "14000 train: 1804.94   valid: 2308.35   diff: -503.41   loss train ev.: -1.93   loss val ev.: -0.42\n",
            "15000 train: 1803.09   valid: 2307.88   diff: -504.79   loss train ev.: -1.85   loss val ev.: -0.47\n",
            "16000 train: 1801.06   valid: 2307.45   diff: -506.39   loss train ev.: -2.03   loss val ev.: -0.43\n",
            "17000 train: 1798.98   valid: 2307.30   diff: -508.31   loss train ev.: -2.07   loss val ev.: -0.16\n",
            "18000 train: 1796.95   valid: 2306.73   diff: -509.78   loss train ev.: -2.04   loss val ev.: -0.56\n",
            "19000 train: 1795.08   valid: 2305.65   diff: -510.58   loss train ev.: -1.87   loss val ev.: -1.08\n",
            "20000 train: 1793.36   valid: 2304.90   diff: -511.55   loss train ev.: -1.72   loss val ev.: -0.75\n",
            "21000 train: 1791.71   valid: 2304.45   diff: -512.74   loss train ev.: -1.65   loss val ev.: -0.45\n",
            "22000 train: 1790.20   valid: 2304.50   diff: -514.30   loss train ev.: -1.51   loss val ev.: 0.05\n",
            "23000 train: 1788.76   valid: 2304.46   diff: -515.70   loss train ev.: -1.44   loss val ev.: -0.04\n",
            "24000 train: 1787.25   valid: 2304.34   diff: -517.09   loss train ev.: -1.51   loss val ev.: -0.12\n",
            "25000 train: 1785.86   valid: 2303.93   diff: -518.07   loss train ev.: -1.39   loss val ev.: -0.41\n",
            "26000 train: 1784.49   valid: 2303.34   diff: -518.85   loss train ev.: -1.37   loss val ev.: -0.59\n",
            "27000 train: 1783.17   valid: 2302.68   diff: -519.51   loss train ev.: -1.33   loss val ev.: -0.67\n",
            "28000 train: 1781.82   valid: 2301.98   diff: -520.16   loss train ev.: -1.35   loss val ev.: -0.70\n",
            "29000 train: 1780.39   valid: 2301.12   diff: -520.74   loss train ev.: -1.43   loss val ev.: -0.85\n",
            "30000 train: 1778.95   valid: 2300.82   diff: -521.86   loss train ev.: -1.43   loss val ev.: -0.31\n",
            "31000 train: 1777.60   valid: 2299.82   diff: -522.22   loss train ev.: -1.35   loss val ev.: -1.00\n",
            "32000 train: 1776.10   valid: 2298.95   diff: -522.85   loss train ev.: -1.49   loss val ev.: -0.86\n",
            "33000 train: 1774.61   valid: 2298.37   diff: -523.76   loss train ev.: -1.49   loss val ev.: -0.58\n",
            "34000 train: 1773.18   valid: 2297.97   diff: -524.79   loss train ev.: -1.43   loss val ev.: -0.40\n",
            "35000 train: 1771.75   valid: 2297.40   diff: -525.65   loss train ev.: -1.43   loss val ev.: -0.57\n",
            "36000 train: 1770.08   valid: 2297.21   diff: -527.14   loss train ev.: -1.68   loss val ev.: -0.19\n",
            "37000 train: 1768.47   valid: 2296.95   diff: -528.48   loss train ev.: -1.60   loss val ev.: -0.26\n",
            "38000 train: 1766.92   valid: 2296.12   diff: -529.20   loss train ev.: -1.55   loss val ev.: -0.82\n",
            "39000 train: 1765.52   valid: 2295.90   diff: -530.38   loss train ev.: -1.41   loss val ev.: -0.23\n",
            "40000 train: 1764.15   valid: 2297.08   diff: -532.93   loss train ev.: -1.37   loss val ev.: 1.18\n",
            "41000 train: 1762.94   valid: 2297.20   diff: -534.26   loss train ev.: -1.21   loss val ev.: 0.11\n",
            "42000 train: 1761.75   valid: 2297.47   diff: -535.72   loss train ev.: -1.18   loss val ev.: 0.27\n",
            "43000 train: 1760.64   valid: 2297.17   diff: -536.52   loss train ev.: -1.11   loss val ev.: -0.31\n",
            "44000 train: 1759.61   valid: 2297.09   diff: -537.48   loss train ev.: -1.03   loss val ev.: -0.07\n",
            "45000 train: 1758.53   valid: 2297.66   diff: -539.12   loss train ev.: -1.08   loss val ev.: 0.56\n",
            "46000 train: 1757.50   valid: 2298.04   diff: -540.54   loss train ev.: -1.03   loss val ev.: 0.38\n",
            "47000 train: 1756.55   valid: 2298.29   diff: -541.74   loss train ev.: -0.94   loss val ev.: 0.25\n",
            "48000 train: 1755.72   valid: 2298.32   diff: -542.60   loss train ev.: -0.83   loss val ev.: 0.03\n",
            "49000 train: 1754.91   valid: 2298.25   diff: -543.34   loss train ev.: -0.81   loss val ev.: -0.07\n",
            "50000 train: 1754.08   valid: 2298.27   diff: -544.19   loss train ev.: -0.83   loss val ev.: 0.03\n"
          ]
        },
        {
          "data": {
            "image/png": "[encoded data removed]",
            "text/plain": [
              "<Figure size 640x480 with 1 Axes>"
            ]
          },
          "metadata": {},
          "output_type": "display_data"
        },
        {
          "data": {
            "image/png": "[encoded data removed]",
            "text/plain": [
              "<Figure size 640x480 with 1 Axes>"
            ]
          },
          "metadata": {},
          "output_type": "display_data"
        }
      ],
      "source": [
        "# we use the network already trained above\n",
        "\n",
        "#ann = ANN(D_in=3, D_out=3, H=H)\n",
        "\n",
        "x_val, y_val = get_dataset(N, D_in, D_out)\n",
        "\n",
        "assert x.shape[0] == x_val.shape[0]\n",
        "\n",
        "trainer = TrainerAdvanced(ann, (x, y), (x_val, y_val))\n",
        "log_loss = trainer.fit(epoch=50000, log_frequency=1000)\n",
        "\n",
        "import matplotlib.pyplot as plt\n",
        "def plot_losses(log_losses):\n",
        "  # del log_loss[0] # remove the first loss if you train a new network\n",
        "  res = list(zip(*log_loss)) \n",
        "  plt.plot(res[0], res[1])\n",
        "  plt.show()\n",
        "  plt.plot(res[0], res[2])\n",
        "\n",
        "plot_losses(log_loss)\n"
      ]
    },
    {
      "cell_type": "markdown",
      "metadata": {
        "id": "pqjSC9Ndqoot"
      },
      "source": [
        "It looks like we indeed obtain a better loss on the training set compared to the one obtained on the validation set. \n",
        "\n",
        "But we are still reducing the validation loss during training (which means we are not overfitting per se).\n",
        "\n",
        "Let's continue training."
      ]
    },
    {
      "cell_type": "code",
      "execution_count": null,
      "metadata": {
        "colab": {
          "base_uri": "https://localhost:8080/",
          "height": 889
        },
        "id": "qOr802U2q8Nl",
        "outputId": "a774793d-2d00-461d-bba4-81ccf46bbf37"
      },
      "outputs": [
        {
          "name": "stdout",
          "output_type": "stream",
          "text": [
            "0 train: 1792.02   valid: 2160.64   diff: -368.62   loss train ev.: 0.00   loss val ev.: 0.00\n",
            "5000 train: 1790.06   valid: 2161.76   diff: -371.69   loss train ev.: -1.95   loss val ev.: 1.12\n",
            "10000 train: 1788.15   valid: 2163.34   diff: -375.19   loss train ev.: -1.91   loss val ev.: 1.58\n",
            "15000 train: 1786.31   valid: 2164.25   diff: -377.94   loss train ev.: -1.84   loss val ev.: 0.91\n",
            "20000 train: 1784.52   valid: 2164.44   diff: -379.91   loss train ev.: -1.79   loss val ev.: 0.19\n",
            "25000 train: 1782.68   valid: 2165.67   diff: -382.99   loss train ev.: -1.84   loss val ev.: 1.23\n",
            "30000 train: 1781.05   valid: 2166.28   diff: -385.23   loss train ev.: -1.63   loss val ev.: 0.61\n",
            "35000 train: 1779.52   valid: 2166.33   diff: -386.81   loss train ev.: -1.53   loss val ev.: 0.05\n",
            "40000 train: 1778.00   valid: 2166.42   diff: -388.42   loss train ev.: -1.52   loss val ev.: 0.09\n",
            "45000 train: 1776.55   valid: 2166.62   diff: -390.07   loss train ev.: -1.45   loss val ev.: 0.20\n",
            "50000 train: 1775.17   valid: 2167.10   diff: -391.93   loss train ev.: -1.37   loss val ev.: 0.48\n",
            "55000 train: 1773.85   valid: 2167.34   diff: -393.49   loss train ev.: -1.32   loss val ev.: 0.25\n",
            "60000 train: 1772.47   valid: 2167.67   diff: -395.21   loss train ev.: -1.39   loss val ev.: 0.33\n",
            "65000 train: 1771.21   valid: 2168.11   diff: -396.90   loss train ev.: -1.26   loss val ev.: 0.43\n",
            "70000 train: 1769.99   valid: 2168.57   diff: -398.58   loss train ev.: -1.21   loss val ev.: 0.47\n",
            "75000 train: 1768.79   valid: 2169.00   diff: -400.21   loss train ev.: -1.20   loss val ev.: 0.43\n",
            "80000 train: 1767.61   valid: 2169.60   diff: -401.99   loss train ev.: -1.18   loss val ev.: 0.60\n",
            "85000 train: 1766.47   valid: 2170.23   diff: -403.77   loss train ev.: -1.14   loss val ev.: 0.64\n",
            "90000 train: 1765.37   valid: 2170.91   diff: -405.54   loss train ev.: -1.09   loss val ev.: 0.68\n",
            "95000 train: 1764.32   valid: 2171.66   diff: -407.34   loss train ev.: -1.06   loss val ev.: 0.75\n",
            "100000 train: 1763.29   valid: 2172.36   diff: -409.07   loss train ev.: -1.03   loss val ev.: 0.70\n"
          ]
        },
        {
          "data": {
            "image/png": "[encoded data removed]",
            "text/plain": [
              "<Figure size 432x288 with 1 Axes>"
            ]
          },
          "metadata": {
            "needs_background": "light"
          },
          "output_type": "display_data"
        },
        {
          "data": {
            "image/png": "[encoded data removed]",
            "text/plain": [
              "<Figure size 432x288 with 1 Axes>"
            ]
          },
          "metadata": {
            "needs_background": "light"
          },
          "output_type": "display_data"
        }
      ],
      "source": [
        "log_loss = trainer.fit(epoch=100000, log_frequency=5000)\n",
        "plot_losses(log_loss)"
      ]
    },
    {
      "cell_type": "markdown",
      "metadata": {
        "id": "vFxSjrtOJIxd"
      },
      "source": [
        "[Optional] Execute the code below to plot the full evolution of the losses training a new network from scratch"
      ]
    },
    {
      "cell_type": "code",
      "execution_count": 38,
      "metadata": {
        "colab": {
          "base_uri": "https://localhost:8080/",
          "height": 1000
        },
        "id": "n-1Y8_vUJOhe",
        "outputId": "e922f56c-d9dd-441a-f7cf-3e932381b222"
      },
      "outputs": [
        {
          "name": "stdout",
          "output_type": "stream",
          "text": [
            "0 train: 584739.53   valid: 434245.68   diff: 150493.84   loss train ev.: 0.00   loss val ev.: 0.00\n",
            "1000 train: 2728.96   valid: 2799.05   diff: -70.08   loss train ev.: -582010.57   loss val ev.: -431446.64\n",
            "2000 train: 2345.95   valid: 2505.43   diff: -159.49   loss train ev.: -383.02   loss val ev.: -293.61\n",
            "3000 train: 2196.78   valid: 2418.73   diff: -221.95   loss train ev.: -149.17   loss val ev.: -86.70\n",
            "4000 train: 2115.59   valid: 2372.68   diff: -257.09   loss train ev.: -81.19   loss val ev.: -46.05\n",
            "5000 train: 2063.90   valid: 2349.62   diff: -285.72   loss train ev.: -51.69   loss val ev.: -23.06\n",
            "6000 train: 2028.66   valid: 2340.15   diff: -311.48   loss train ev.: -35.24   loss val ev.: -9.47\n",
            "7000 train: 2003.05   valid: 2335.76   diff: -332.71   loss train ev.: -25.61   loss val ev.: -4.38\n",
            "8000 train: 1983.48   valid: 2332.59   diff: -349.11   loss train ev.: -19.57   loss val ev.: -3.18\n",
            "9000 train: 1967.08   valid: 2328.85   diff: -361.77   loss train ev.: -16.40   loss val ev.: -3.74\n",
            "10000 train: 1952.34   valid: 2329.27   diff: -376.93   loss train ev.: -14.74   loss val ev.: 0.42\n",
            "11000 train: 1940.07   valid: 2329.53   diff: -389.46   loss train ev.: -12.27   loss val ev.: 0.26\n",
            "12000 train: 1926.68   valid: 2330.84   diff: -404.16   loss train ev.: -13.39   loss val ev.: 1.31\n",
            "13000 train: 1911.07   valid: 2335.04   diff: -423.97   loss train ev.: -15.61   loss val ev.: 4.21\n",
            "14000 train: 1899.45   valid: 2334.79   diff: -435.35   loss train ev.: -11.63   loss val ev.: -0.25\n",
            "15000 train: 1891.10   valid: 2332.70   diff: -441.60   loss train ev.: -8.34   loss val ev.: -2.10\n",
            "16000 train: 1884.92   valid: 2330.89   diff: -445.97   loss train ev.: -6.18   loss val ev.: -1.80\n",
            "17000 train: 1878.89   valid: 2328.01   diff: -449.13   loss train ev.: -6.04   loss val ev.: -2.88\n",
            "18000 train: 1874.34   valid: 2326.72   diff: -452.38   loss train ev.: -4.55   loss val ev.: -1.29\n",
            "19000 train: 1870.33   valid: 2326.29   diff: -455.96   loss train ev.: -4.01   loss val ev.: -0.43\n",
            "20000 train: 1866.89   valid: 2326.02   diff: -459.14   loss train ev.: -3.44   loss val ev.: -0.26\n",
            "21000 train: 1863.35   valid: 2325.69   diff: -462.35   loss train ev.: -3.54   loss val ev.: -0.33\n",
            "22000 train: 1860.02   valid: 2324.98   diff: -464.96   loss train ev.: -3.33   loss val ev.: -0.71\n",
            "23000 train: 1856.95   valid: 2324.77   diff: -467.82   loss train ev.: -3.07   loss val ev.: -0.21\n",
            "24000 train: 1853.85   valid: 2324.88   diff: -471.03   loss train ev.: -3.10   loss val ev.: 0.11\n",
            "25000 train: 1850.68   valid: 2324.55   diff: -473.88   loss train ev.: -3.18   loss val ev.: -0.33\n",
            "26000 train: 1847.73   valid: 2323.73   diff: -476.00   loss train ev.: -2.94   loss val ev.: -0.82\n",
            "27000 train: 1844.91   valid: 2322.67   diff: -477.75   loss train ev.: -2.82   loss val ev.: -1.07\n",
            "28000 train: 1842.04   valid: 2321.86   diff: -479.82   loss train ev.: -2.87   loss val ev.: -0.81\n",
            "29000 train: 1839.34   valid: 2321.32   diff: -481.98   loss train ev.: -2.70   loss val ev.: -0.54\n",
            "30000 train: 1836.80   valid: 2321.06   diff: -484.26   loss train ev.: -2.55   loss val ev.: -0.26\n",
            "31000 train: 1834.20   valid: 2320.97   diff: -486.77   loss train ev.: -2.60   loss val ev.: -0.09\n",
            "32000 train: 1830.61   valid: 2320.44   diff: -489.82   loss train ev.: -3.59   loss val ev.: -0.54\n",
            "33000 train: 1827.83   valid: 2319.15   diff: -491.32   loss train ev.: -2.78   loss val ev.: -1.29\n",
            "34000 train: 1825.01   valid: 2318.33   diff: -493.32   loss train ev.: -2.82   loss val ev.: -0.82\n",
            "35000 train: 1822.46   valid: 2317.12   diff: -494.66   loss train ev.: -2.55   loss val ev.: -1.20\n",
            "36000 train: 1820.29   valid: 2316.69   diff: -496.39   loss train ev.: -2.17   loss val ev.: -0.44\n",
            "37000 train: 1818.08   valid: 2317.11   diff: -499.02   loss train ev.: -2.21   loss val ev.: 0.42\n",
            "38000 train: 1816.35   valid: 2316.89   diff: -500.55   loss train ev.: -1.74   loss val ev.: -0.21\n",
            "39000 train: 1814.49   valid: 2317.61   diff: -503.13   loss train ev.: -1.86   loss val ev.: 0.72\n",
            "40000 train: 1813.08   valid: 2317.68   diff: -504.60   loss train ev.: -1.41   loss val ev.: 0.07\n",
            "41000 train: 1811.58   valid: 2317.28   diff: -505.71   loss train ev.: -1.50   loss val ev.: -0.40\n",
            "42000 train: 1809.90   valid: 2316.79   diff: -506.89   loss train ev.: -1.68   loss val ev.: -0.49\n",
            "43000 train: 1808.57   valid: 2316.93   diff: -508.36   loss train ev.: -1.32   loss val ev.: 0.14\n",
            "44000 train: 1807.24   valid: 2317.21   diff: -509.97   loss train ev.: -1.34   loss val ev.: 0.28\n",
            "45000 train: 1805.87   valid: 2317.97   diff: -512.10   loss train ev.: -1.37   loss val ev.: 0.77\n",
            "46000 train: 1804.64   valid: 2318.21   diff: -513.57   loss train ev.: -1.23   loss val ev.: 0.24\n",
            "47000 train: 1803.45   valid: 2318.42   diff: -514.97   loss train ev.: -1.19   loss val ev.: 0.20\n",
            "48000 train: 1802.22   valid: 2319.11   diff: -516.89   loss train ev.: -1.23   loss val ev.: 0.69\n",
            "49000 train: 1800.93   valid: 2320.03   diff: -519.10   loss train ev.: -1.28   loss val ev.: 0.92\n",
            "50000 train: 1799.65   valid: 2321.10   diff: -521.45   loss train ev.: -1.28   loss val ev.: 1.07\n",
            "51000 train: 1798.41   valid: 2321.86   diff: -523.45   loss train ev.: -1.24   loss val ev.: 0.76\n",
            "52000 train: 1797.10   valid: 2322.73   diff: -525.63   loss train ev.: -1.31   loss val ev.: 0.86\n",
            "53000 train: 1795.76   valid: 2323.68   diff: -527.92   loss train ev.: -1.34   loss val ev.: 0.96\n",
            "54000 train: 1794.50   valid: 2324.76   diff: -530.26   loss train ev.: -1.26   loss val ev.: 1.08\n",
            "55000 train: 1793.35   valid: 2325.83   diff: -532.48   loss train ev.: -1.15   loss val ev.: 1.07\n",
            "56000 train: 1792.30   valid: 2326.49   diff: -534.19   loss train ev.: -1.05   loss val ev.: 0.66\n",
            "57000 train: 1791.26   valid: 2326.91   diff: -535.65   loss train ev.: -1.04   loss val ev.: 0.42\n",
            "58000 train: 1790.19   valid: 2327.60   diff: -537.41   loss train ev.: -1.07   loss val ev.: 0.69\n",
            "59000 train: 1789.14   valid: 2328.28   diff: -539.14   loss train ev.: -1.05   loss val ev.: 0.68\n",
            "60000 train: 1788.11   valid: 2328.69   diff: -540.58   loss train ev.: -1.03   loss val ev.: 0.41\n",
            "61000 train: 1787.17   valid: 2329.18   diff: -542.01   loss train ev.: -0.94   loss val ev.: 0.49\n",
            "62000 train: 1786.28   valid: 2329.66   diff: -543.39   loss train ev.: -0.90   loss val ev.: 0.48\n",
            "63000 train: 1785.39   valid: 2330.03   diff: -544.63   loss train ev.: -0.88   loss val ev.: 0.36\n",
            "64000 train: 1784.52   valid: 2330.43   diff: -545.91   loss train ev.: -0.87   loss val ev.: 0.40\n",
            "65000 train: 1783.54   valid: 2331.39   diff: -547.86   loss train ev.: -0.99   loss val ev.: 0.96\n",
            "66000 train: 1782.32   valid: 2332.78   diff: -550.46   loss train ev.: -1.21   loss val ev.: 1.39\n",
            "67000 train: 1781.06   valid: 2333.44   diff: -552.37   loss train ev.: -1.26   loss val ev.: 0.66\n",
            "68000 train: 1779.83   valid: 2333.80   diff: -553.97   loss train ev.: -1.24   loss val ev.: 0.36\n",
            "69000 train: 1778.79   valid: 2333.68   diff: -554.88   loss train ev.: -1.03   loss val ev.: -0.12\n",
            "70000 train: 1777.83   valid: 2333.50   diff: -555.68   loss train ev.: -0.97   loss val ev.: -0.18\n",
            "71000 train: 1776.86   valid: 2333.40   diff: -556.55   loss train ev.: -0.97   loss val ev.: -0.10\n",
            "72000 train: 1775.87   valid: 2333.61   diff: -557.74   loss train ev.: -0.98   loss val ev.: 0.21\n",
            "73000 train: 1774.62   valid: 2333.68   diff: -559.06   loss train ev.: -1.25   loss val ev.: 0.07\n",
            "74000 train: 1773.51   valid: 2333.85   diff: -560.34   loss train ev.: -1.11   loss val ev.: 0.17\n",
            "75000 train: 1772.50   valid: 2333.99   diff: -561.49   loss train ev.: -1.01   loss val ev.: 0.14\n",
            "76000 train: 1771.55   valid: 2334.05   diff: -562.51   loss train ev.: -0.95   loss val ev.: 0.07\n",
            "77000 train: 1770.65   valid: 2334.08   diff: -563.43   loss train ev.: -0.89   loss val ev.: 0.03\n",
            "78000 train: 1769.82   valid: 2334.07   diff: -564.25   loss train ev.: -0.83   loss val ev.: -0.01\n",
            "79000 train: 1768.99   valid: 2334.20   diff: -565.21   loss train ev.: -0.83   loss val ev.: 0.13\n",
            "80000 train: 1768.16   valid: 2334.37   diff: -566.20   loss train ev.: -0.82   loss val ev.: 0.17\n",
            "81000 train: 1767.37   valid: 2334.42   diff: -567.04   loss train ev.: -0.79   loss val ev.: 0.05\n",
            "82000 train: 1766.61   valid: 2334.39   diff: -567.78   loss train ev.: -0.76   loss val ev.: -0.03\n",
            "83000 train: 1765.81   valid: 2334.28   diff: -568.47   loss train ev.: -0.80   loss val ev.: -0.11\n",
            "84000 train: 1765.01   valid: 2334.19   diff: -569.17   loss train ev.: -0.80   loss val ev.: -0.09\n",
            "85000 train: 1764.21   valid: 2333.98   diff: -569.77   loss train ev.: -0.80   loss val ev.: -0.20\n",
            "86000 train: 1763.37   valid: 2333.94   diff: -570.57   loss train ev.: -0.84   loss val ev.: -0.04\n",
            "87000 train: 1762.58   valid: 2334.00   diff: -571.42   loss train ev.: -0.79   loss val ev.: 0.06\n",
            "88000 train: 1761.86   valid: 2334.12   diff: -572.25   loss train ev.: -0.72   loss val ev.: 0.11\n",
            "89000 train: 1761.19   valid: 2334.09   diff: -572.90   loss train ev.: -0.67   loss val ev.: -0.02\n",
            "90000 train: 1760.53   valid: 2333.97   diff: -573.44   loss train ev.: -0.66   loss val ev.: -0.12\n",
            "91000 train: 1759.87   valid: 2334.01   diff: -574.14   loss train ev.: -0.66   loss val ev.: 0.03\n",
            "92000 train: 1759.18   valid: 2333.58   diff: -574.40   loss train ev.: -0.69   loss val ev.: -0.42\n",
            "93000 train: 1758.48   valid: 2333.02   diff: -574.54   loss train ev.: -0.70   loss val ev.: -0.57\n",
            "94000 train: 1757.80   valid: 2332.74   diff: -574.93   loss train ev.: -0.67   loss val ev.: -0.28\n",
            "95000 train: 1757.14   valid: 2332.65   diff: -575.51   loss train ev.: -0.66   loss val ev.: -0.09\n",
            "96000 train: 1756.50   valid: 2332.78   diff: -576.28   loss train ev.: -0.65   loss val ev.: 0.13\n",
            "97000 train: 1755.87   valid: 2333.05   diff: -577.18   loss train ev.: -0.63   loss val ev.: 0.27\n",
            "98000 train: 1755.25   valid: 2333.31   diff: -578.06   loss train ev.: -0.62   loss val ev.: 0.26\n",
            "99000 train: 1754.63   valid: 2333.54   diff: -578.91   loss train ev.: -0.61   loss val ev.: 0.23\n",
            "100000 train: 1754.02   valid: 2333.76   diff: -579.74   loss train ev.: -0.61   loss val ev.: 0.22\n"
          ]
        },
        {
          "data": {
            "image/png": "[encoded data removed]",
            "text/plain": [
              "<Figure size 640x480 with 1 Axes>"
            ]
          },
          "metadata": {},
          "output_type": "display_data"
        },
        {
          "data": {
            "image/png": "[encoded data removed]",
            "text/plain": [
              "<Figure size 640x480 with 1 Axes>"
            ]
          },
          "metadata": {},
          "output_type": "display_data"
        }
      ],
      "source": [
        "ann = ANN(D_in=3, D_out=3, H=H)\n",
        "trainer = TrainerAdvanced(ann, (x, y), (x_val, y_val))\n",
        "log_loss = trainer.fit(epoch=100000, log_frequency=1000)\n",
        "\n",
        "del log_loss[0]\n",
        "plot_losses(log_loss)"
      ]
    },
    {
      "cell_type": "markdown",
      "metadata": {
        "id": "UdUBr3fJboZL"
      },
      "source": [
        "## Takeaway\n",
        "\n",
        "You've implemented your first ANN. \n",
        "\n",
        "Ok it was a quite simple ANN, but you can still be proud of you!\n",
        "\n",
        "We will now try extract the main notions you're supposed to grasp having endured that adventure. \n",
        "\n",
        "**A task-dependent ANN model with specific design choices**\n",
        "\n",
        "The architecture of our ANN has been defined based on the task we were adressing. Recall that in our case we were dealing with a specific regression task in which our predictior (ANN) was of the form: $\\hat{f}: \\mathbb{R}^3 \\rightarrow \\mathbb{R}^3$. Always keep in mind what's your goal: given the (x,y,z) 3D coordinates of an object at time $t$, we were asked to predict the location of the object in that same space at time $t+1$.\n",
        "\n",
        "Hence, even if we tried to be as generic as possible, e.g. introducing $D_{in}$ and $D_{out}$ to refer to the input, and output sizes, those values, among others, had to be defined to even think about effectively use the ANN, i.e. to make predictions. This was required to process a given input and produce an output because the shapes of $ W_1 $ and $ W_2 $ were also dependent of these values.\n",
        "\n",
        "In our case we defined $D_{in} = D_{out} = 3$ because the task we were dealing required us to ($\\hat{f}: \\mathbb{R}^3 \\rightarrow \\mathbb{R}^3$). Dealing with another task, e.g. classification task, and/or the need to process other types of inputs, or to produce other outputs would require us to make potentially important modifications to our network. This has to be very clear to you.\n",
        "\n",
        "Designing our network, we also arbitrarily defined several things related to its architecture : we chose to only use a single hidden layer, with a specific number of neurons ($H$), that were characterized by a similar activation function (Relu). The type of ANN we finally defined is called a [feedforward neural network](https://en.wikipedia.org/wiki/Feedforward_neural_network) (no cycles in the flow of information).\n",
        "\n",
        "All these design choices could have been different. We could have changed the number of neurons, the number of layers, the activation function, even the connexions between neurons. Once again, those choices had to be defined in order to obtain a usable network, as they define the way the output will be computed from an input. \n",
        "\n",
        "Expert in machine learning and deep learning know the litterature generally have an idea of what types of networks are more susceptible to work dealing with a specific task. They also know how to apply well-defined procedures to train various models and compare their results in a meaningfull way, which is always mandatory in the end to train and obtain a new network trained for a specific task on new data.\n",
        "\n",
        "We therefore distinguish: \n",
        "* Type of networks: feedforward, recurrent...\n",
        "* hyperparameters: number of layers, neurons, types of activation function...\n",
        "* parameters: weights (and bias) of the network that are effectively trainable (values stored in $W_1$ and $W_2$ in our case).  \n",
        "\n",
        "The architecture of the network and the hyperparameters define the way the function mapping the input to the output is constrained (it defines a set of functions). \n",
        "\n",
        "The parameters are implicitly defined by the design of the network, e.g. in our simple network, the hyperparameters $D_{in}$, $D_{out}$ and $H$ are defining the shapes of the matrices $W_1$ and $W_2$ storing the networks' parameters. \n",
        "\n",
        "Once fixed, i.e. assigned to a specific value, the parameters finally fully define the predictor, the function $\\hat{f}$ we will be able to use to map an input to an output.     \n",
        "\n",
        "**The general training procedure is not tight to a specific ANN or Task**\n",
        "\n",
        "The training procedure has been used to find the good value of the parameters with regard to a specific objective we defined. \n",
        "\n",
        "The objective we considered is the minimization a loss function (it get more complex when we distinguish training, validation and test losses but don't get lost, what we wanted was to minimize a loss considering specific constraints). \n",
        "\n",
        "Recall, the training procedure we used. \n",
        "It worked iteratively as follows: \n",
        "\n",
        "* We iterate several times on the training data (eventually processing splits):\n",
        "  1. Forward pass: The predictor is used to makes predictions on the given inputs.\n",
        "  2. Backward pass: \n",
        "    * We compute the training loss comparing expected values and predictions\n",
        "    * We compute the gradient of the loss function with respect to the parameters of the ANN.\n",
        "    * We modify the parameters using the gradient.  \n",
        "  3. We evaluate a stopping criterion (e.g. based on the loss on a validation set)\n",
        "\n",
        "Obviously, this is a general sketch and each step contains technical aspects. However, the procedure is fully generic considering that: \n",
        "* the ANN is given \n",
        "* the loss is defined\n",
        "* we can compute the gradient of the loss function with respect to the parameters of the ANN (which was in the end the only technical part we had to deal with)\n",
        "\n",
        "\n",
        "Now, read carefully, let's imagine a world where, considering a loss and a set of labeled inputs, computing the gradient of the loss function with respect to the parameters of an ANN would be as easy as calling a function once the forward pass of the ANN is defined. Read again. \n",
        "\n",
        "This world exists, it's yours! \n"
      ]
    },
    {
      "cell_type": "markdown",
      "metadata": {
        "id": "w7vgU9gm18rG"
      },
      "source": [
        "> **Exercise \"Explain me what's an ANN.\"**\n",
        ">\n",
        "> Developing ANNs in the following sessions will require you to master the basic concepts. Take a sheet of paper. \n",
        ">  \n",
        "> Considering a supervised setting:\n",
        "> * Introduce what's an ANN; distinguish the main components, illustrate and formalize them.\n",
        "> * Explain how to train an ANN considering a specific dataset.  \n",
        "> * Express an illustration of simple network using Linear Algebra notations we used in the course (it will be important for you to understand this for the next sessions). \n",
        "> "
      ]
    },
    {
      "cell_type": "markdown",
      "metadata": {
        "id": "6IOKJZ6bwSVt"
      },
      "source": [
        "## Resources \n",
        "* [Machine learning](https://en.wikipedia.org/wiki/Machine_learning)\n",
        "* [Supervised learning](https://en.wikipedia.org/wiki/Supervised_learning)\n",
        "* [Feedforward neural networks](https://en.wikipedia.org/wiki/Feedforward_neural_network)\n",
        "* [Backpropagation](https://en.wikipedia.org/wiki/Backpropagation)\n",
        "* [Chain rule](https://en.wikipedia.org/wiki/Chain_rule)\n",
        "\n",
        "\n",
        "********"
      ]
    }
  ],
  "metadata": {
    "colab": {
      "collapsed_sections": [],
      "provenance": []
    },
    "kernelspec": {
      "display_name": "Python 3",
      "name": "python3"
    },
    "language_info": {
      "codemirror_mode": {
        "name": "ipython",
        "version": 3
      },
      "file_extension": ".py",
      "mimetype": "text/x-python",
      "name": "python",
      "nbconvert_exporter": "python",
      "pygments_lexer": "ipython3",
      "version": "3.10.9"
    }
  },
  "nbformat": 4,
  "nbformat_minor": 0
}
